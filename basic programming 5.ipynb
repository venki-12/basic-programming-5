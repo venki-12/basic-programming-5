{
 "cells": [
  {
   "cell_type": "code",
   "execution_count": 1,
   "metadata": {},
   "outputs": [],
   "source": [
    "#Write a Python Program to Find LCM?\n",
    "def findlcm(a, b):\n",
    "    if(a > b):# choose the greater no\n",
    "        maximum = a\n",
    "    else:\n",
    "        maximum = b\n",
    "\n",
    "    while(True):\n",
    "        if(maximum % a == 0 and maximum % b == 0):\n",
    "            lcm = maximum;\n",
    "            break;\n",
    "        maximum = maximum + 1\n",
    "    return lcm"
   ]
  },
  {
   "cell_type": "code",
   "execution_count": 2,
   "metadata": {},
   "outputs": [],
   "source": [
    "#Write a Python Program to Find HCF?\n",
    "def compute_hcf(x, y):\n",
    "\n",
    "# choose the smaller number\n",
    "    if x > y:\n",
    "        smaller = y\n",
    "    else:\n",
    "        smaller = x\n",
    "    for i in range(1, smaller+1):\n",
    "        if((x % i == 0) and (y % i == 0)):\n",
    "            hcf = i \n",
    "    return hcf"
   ]
  },
  {
   "cell_type": "code",
   "execution_count": 3,
   "metadata": {},
   "outputs": [
    {
     "name": "stdout",
     "output_type": "stream",
     "text": [
      "455\n",
      "1C7"
     ]
    }
   ],
   "source": [
    "#Write a Python Program to Convert Decimal to Binary, Octal and Hexadecimal?\n",
    "def find(dec_num):\n",
    "    if (dec_num == 0):\n",
    "        return\n",
    "    else:\n",
    "        find(int(dec_num/2))\n",
    "        print(dec_num%2 ,end=\"\")\n",
    "\n",
    "# program to covert deimal to octal        \n",
    "        \n",
    "def to_octal(num):\n",
    "    num = int(input())\n",
    "    i = 1\n",
    "    sum_1 = 0\n",
    "    while num !=0:\n",
    "        rem = int(num%8)\n",
    "        sum_1=sum_1 + i*rem\n",
    "        i = i*10\n",
    "        num= num/8\n",
    "    return sum_1\n",
    "\n",
    "\n",
    "num1=int(input())\n",
    "base = ''\n",
    "while num1 != 0:\n",
    "    r = num1%16\n",
    "    if int(r)==10:\n",
    "        base+='A'\n",
    "    elif int(r)==11:\n",
    "        base+='B'\n",
    "    elif int(r)==12:\n",
    "        base+='C'\n",
    "    elif int(r)==13:\n",
    "        base+='D'\n",
    "    elif int(r)==14:\n",
    "        base+='E'\n",
    "    elif int(r) == 15:\n",
    "        base+= 'F'\n",
    "    else:\n",
    "        base+= str(r)\n",
    "    num1 =num1//16\n",
    "        \n",
    "for i in range(len(base)-1,-1,-1):\n",
    "    print(base[i],end=\"\")\n",
    "     "
   ]
  },
  {
   "cell_type": "code",
   "execution_count": 4,
   "metadata": {},
   "outputs": [
    {
     "name": "stdout",
     "output_type": "stream",
     "text": [
      "Enter character to check : a\n",
      "97\n"
     ]
    }
   ],
   "source": [
    "#Write a Python Program To Find ASCII value of a character?\n",
    "char = input(\"Enter character to check : \")\n",
    "print(ord(char))\n"
   ]
  },
  {
   "cell_type": "code",
   "execution_count": 5,
   "metadata": {},
   "outputs": [
    {
     "name": "stdout",
     "output_type": "stream",
     "text": [
      "Select operation.\n",
      "1.Add\n",
      "2.Subtract\n",
      "3.Multiply\n",
      "4.Divide\n",
      "Enter choice(1/2/3/4):2\n",
      "Enter first number: 54\n",
      "Enter second number: 21\n",
      "54 - 21 = 33\n"
     ]
    }
   ],
   "source": [
    "#Write a Python Program to Make a Simple Calculator with 4 basic mathematical operations?\n",
    "def add(x, y):  #this function adds two numbers \n",
    "    return x + y \n",
    "def subtract(x, y): #This function subtracts two number \n",
    "    return x - y \n",
    "def multiply(x, y):#This function multiplies two numbers\n",
    "    return x * y \n",
    "def divide(x, y):#This function divides two numbers \n",
    "    return x / y\n",
    "\n",
    "# taking input from the user  \n",
    "print(\"Select operation.\")  \n",
    "print(\"1.Add\")  \n",
    "print(\"2.Subtract\")  \n",
    "print(\"3.Multiply\")  \n",
    "print(\"4.Divide\")  \n",
    "  \n",
    "choice = input(\"Enter choice(1/2/3/4):\")  \n",
    "  \n",
    "num1 = int(input(\"Enter first number: \"))  \n",
    "num2 = int(input(\"Enter second number: \"))  \n",
    "  \n",
    "if choice == '1':  \n",
    "    print(num1,\"+\",num2,\"=\", add(num1,num2))  \n",
    "      \n",
    "elif choice == '2':  \n",
    "    print(num1,\"-\",num2,\"=\", subtract(num1,num2))  \n",
    "\n",
    "elif choice == '3':  \n",
    "    print(num1,\"*\",num2,\"=\", multiply(num1,num2))  \n",
    "\n",
    "elif choice == '4':  \n",
    "    print(num1,\"/\",num2,\"=\", divide(num1,num2))  \n",
    "else:  \n",
    "    print(\"Invalid input\")  "
   ]
  }
 ],
 "metadata": {
  "kernelspec": {
   "display_name": "Python 3",
   "language": "python",
   "name": "python3"
  },
  "language_info": {
   "codemirror_mode": {
    "name": "ipython",
    "version": 3
   },
   "file_extension": ".py",
   "mimetype": "text/x-python",
   "name": "python",
   "nbconvert_exporter": "python",
   "pygments_lexer": "ipython3",
   "version": "3.8.5"
  }
 },
 "nbformat": 4,
 "nbformat_minor": 4
}
